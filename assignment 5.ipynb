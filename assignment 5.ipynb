{
 "cells": [
  {
   "cell_type": "markdown",
   "metadata": {},
   "source": [
    "# EX: 1\n",
    "```python\n",
    "\"\"\"Hello world!\n",
    "We hope that you are learning a lot of Python.\n",
    "Have fun with our Bites of Python.\n",
    "Keep calm and code in Python!\n",
    "Become a ninja!\"\"\"\n",
    "```\n",
    "\n",
    "Store the above msg in a variable and Write a function that takes Split the message by newline (\\n) and join it together on '|' (pipe), return the obtained output string."
   ]
  },
  {
   "cell_type": "code",
   "execution_count": 38,
   "metadata": {},
   "outputs": [
    {
     "name": "stdout",
     "output_type": "stream",
     "text": [
      "Output in splitted form from newline:  ['Hello world!', 'We hope that you are learning a lot of Python.', 'Have fun with our Bites of Python.', 'Keep calm and code in Python!', 'Become a ninja!']\n",
      "\n",
      "\n",
      "Output in joined by '|' form:  Hello world!|We hope that you are learning a lot of Python.|Have fun with our Bites of Python.|Keep calm and code in Python!|Become a ninja!\n"
     ]
    }
   ],
   "source": [
    "def join_split(var):\n",
    "    split = var.split('\\n')\n",
    "    print(\"Output in splitted form from newline: \",split)\n",
    "    join = \"|\".join(split)\n",
    "    return join\n",
    "func = join_split(\"\"\"Hello world!\n",
    "We hope that you are learning a lot of Python.\n",
    "Have fun with our Bites of Python.\n",
    "Keep calm and code in Python!\n",
    "Become a ninja!\"\"\")\n",
    "print('\\n')\n",
    "print(\"Output in joined by '|' form: \",func)\n",
    "\n",
    "#string can also be joined by this method:\n",
    "# join = \"\"\n",
    "# for i in split:\n",
    "#     join += i + \"|\"\n",
    "# return join"
   ]
  },
  {
   "cell_type": "markdown",
   "metadata": {},
   "source": [
    "# EX: 2\n",
    "\n",
    "- Take the block of text provided and strip off the whitespace at both ends. Split the text by newline (\\n).\n",
    "- Loop through the lines, for each line:\n",
    "\n",
    "1) strip off any leading spaces,  <br>\n",
    "2) check if the first character is lowercase, <br>\n",
    "3) if so, split the line into words and get the last word, <br>\n",
    "4) strip the trailing dot (.) and exclamation mark (!) from this last word,and finally add it to the results list. <br>\n",
    "5) Return the results list.  \n",
    "\n",
    "#### Block of text to use in the program\n",
    "``` python \n",
    "text = \"\"\"\n",
    "One really nice feature of Python is polymorphism: using the same operation\n",
    "on different types of objects.\n",
    "Let's talk about an elegant feature: slicing.\n",
    "You can use this on a string as well as a list for example\n",
    "'python'[0:2] gives 'py'.\n",
    " The first value is inclusive and the last one is exclusive so\n",
    "here we grab indexes 0 and 1, the letter p and y.\n",
    "  When you have a 0 index you can leave it out so can write this as 'python'[:2]\n",
    "but here is the kicker: you can use this on a list too!\n",
    "['I', 'teache', 'you', 'Python'][-2:] would gives ['you', 'Python']\n",
    "and now you know about slicing from the end as well :)\n",
    "keep enjoying our bites!\n",
    "\"\"\"\n",
    "```"
   ]
  },
  {
   "cell_type": "code",
   "execution_count": 68,
   "metadata": {},
   "outputs": [
    {
     "name": "stdout",
     "output_type": "stream",
     "text": [
      "['objects', 'y', 'too', ':)', 'bites']\n"
     ]
    }
   ],
   "source": [
    "import re\n",
    "def split_strip(text):\n",
    "    result_list = []\n",
    "    first_strip = text.strip()\n",
    "    split = first_strip.split(\"\\n\")\n",
    "    for lines in split:\n",
    "        lines.lstrip()\n",
    "        if lines[0].islower():\n",
    "            split2 = lines.split()\n",
    "            result_list.append(re.sub(\"[.!]\", \"\", split2[-1]))\n",
    "    return result_list\n",
    "func2 = split_strip(\"\"\"\n",
    "One really nice feature of Python is polymorphism: using the same operation\n",
    "on different types of objects.\n",
    "Let's talk about an elegant feature: slicing.\n",
    "You can use this on a string as well as a list for example\n",
    "'python'[0:2] gives 'py'.\n",
    " The first value is inclusive and the last one is exclusive so\n",
    "here we grab indexes 0 and 1, the letter p and y.\n",
    "  When you have a 0 index you can leave it out so can write this as 'python'[:2]\n",
    "but here is the kicker: you can use this on a list too!\n",
    "['I', 'teache', 'you', 'Python'][-2:] would gives ['you', 'Python']\n",
    "and now you know about slicing from the end as well :)\n",
    "keep enjoying our bites!\n",
    "\"\"\")\n",
    "print(func2)\n",
    "\n",
    "# \"!\" and \".\" can also be stripped off using translate and maketrans functions:\n",
    "# result_list.append(split2[-1].translate(str.maketrans({\".\" : \"\", \"!\" : \"\"})))"
   ]
  },
  {
   "cell_type": "markdown",
   "metadata": {},
   "source": [
    "# EX :3\n",
    "\n",
    "Write a function that Receives a list of numbers, and returns a filtered list of only the numbers that are both positive and even (divisible by 2), try to use a **list comprehension** ."
   ]
  },
  {
   "cell_type": "code",
   "execution_count": 78,
   "metadata": {},
   "outputs": [
    {
     "name": "stdout",
     "output_type": "stream",
     "text": [
      "[2, 4, 6, 8, 10, 12, 14, 16, 18, 20]\n"
     ]
    }
   ],
   "source": [
    "def even_positive(lst):\n",
    "    lst2 = [i for i in lst if i>0 and i%2 == 0]\n",
    "    return lst2\n",
    "print(even_positive([i for i in range(-20, 20 + 1)]))"
   ]
  },
  {
   "cell_type": "markdown",
   "metadata": {},
   "source": [
    "# EX: 4\n",
    "\n",
    "- Replace all vowels in the input text string by a asteric character (*).\n",
    "- Return a tuple of (replaced_text, number_of_vowels_found)\n",
    "- So if this function is called like:\n",
    " ``` python \n",
    "strip_vowels('hello world')\n",
    "```      \n",
    "- it would return:\n",
    "``` python \n",
    "('h*ll* w*rld', 3)\n",
    "```\n",
    "    \n",
    "    \n",
    "#### Block of text to use in the program \n",
    "``` python\n",
    "\n",
    "text = \"\"\"\n",
    "The Zen of Python, by Tim Peters\n",
    "Beautiful is better than ugly.\n",
    "Explicit is better than implicit.\n",
    "Simple is better than complex.\n",
    "Complex is better than complicated.\n",
    "Flat is better than nested.\n",
    "Sparse is better than dense.\n",
    "Readability counts.\n",
    "Special cases aren't special enough to break the rules.\n",
    "Although practicality beats purity.\n",
    "Errors should never pass silently.\n",
    "Unless explicitly silenced.\n",
    "In the face of ambiguity, refuse the temptation to guess.\n",
    "There should be one-- and preferably only one --obvious way to do it.\n",
    "Although that way may not be obvious at first unless you're Dutch.\n",
    "Now is better than never.\n",
    "Although never is often better than *right* now.\n",
    "If the implementation is hard to explain, it's a bad idea.\n",
    "If the implementation is easy to explain, it may be a good idea.\n",
    "Namespaces are one honking great idea -- let's do more of those!\n",
    "\"\"\" \n",
    "```"
   ]
  },
  {
   "cell_type": "code",
   "execution_count": 30,
   "metadata": {},
   "outputs": [
    {
     "name": "stdout",
     "output_type": "stream",
     "text": [
      "(\"\\nTh* Z*n *f Pyth*n, by T*m P*t*rs\\nB***t*f*l *s b*tt*r th*n *gly.\\n*xpl*c*t *s b*tt*r th*n *mpl*c*t.\\nS*mpl* *s b*tt*r th*n c*mpl*x.\\nC*mpl*x *s b*tt*r th*n c*mpl*c*t*d.\\nFl*t *s b*tt*r th*n n*st*d.\\nSp*rs* *s b*tt*r th*n d*ns*.\\nR**d*b*l*ty c**nts.\\nSp*c**l c*s*s *r*n't sp*c**l *n**gh t* br**k th* r*l*s.\\n*lth**gh pr*ct*c*l*ty b**ts p*r*ty.\\n*rr*rs sh**ld n*v*r p*ss s*l*ntly.\\n*nl*ss *xpl*c*tly s*l*nc*d.\\n*n th* f*c* *f *mb*g**ty, r*f*s* th* t*mpt*t**n t* g**ss.\\nTh*r* sh**ld b* *n*-- *nd pr*f*r*bly *nly *n* --*bv***s w*y t* d* *t.\\n*lth**gh th*t w*y m*y n*t b* *bv***s *t f*rst *nl*ss y**'r* D*tch.\\nN*w *s b*tt*r th*n n*v*r.\\n*lth**gh n*v*r *s *ft*n b*tt*r th*n *r*ght* n*w.\\n*f th* *mpl*m*nt*t**n *s h*rd t* *xpl**n, *t's * b*d *d**.\\n*f th* *mpl*m*nt*t**n *s **sy t* *xpl**n, *t m*y b* * g**d *d**.\\nN*m*sp*c*s *r* *n* h*nk*ng gr**t *d** -- l*t's d* m*r* *f th*s*!\\n\", 262)\n"
     ]
    }
   ],
   "source": [
    "def replace_vowels(text):\n",
    "    counter = 0\n",
    "    vowels = \"AEIOUaeiou\"\n",
    "    for words in text:\n",
    "        if words in vowels:\n",
    "            text = text.replace(words, \"*\")\n",
    "            counter += 1\n",
    "    return text, counter\n",
    "func3 = replace_vowels(\"\"\"\n",
    "The Zen of Python, by Tim Peters\n",
    "Beautiful is better than ugly.\n",
    "Explicit is better than implicit.\n",
    "Simple is better than complex.\n",
    "Complex is better than complicated.\n",
    "Flat is better than nested.\n",
    "Sparse is better than dense.\n",
    "Readability counts.\n",
    "Special cases aren't special enough to break the rules.\n",
    "Although practicality beats purity.\n",
    "Errors should never pass silently.\n",
    "Unless explicitly silenced.\n",
    "In the face of ambiguity, refuse the temptation to guess.\n",
    "There should be one-- and preferably only one --obvious way to do it.\n",
    "Although that way may not be obvious at first unless you're Dutch.\n",
    "Now is better than never.\n",
    "Although never is often better than *right* now.\n",
    "If the implementation is hard to explain, it's a bad idea.\n",
    "If the implementation is easy to explain, it may be a good idea.\n",
    "Namespaces are one honking great idea -- let's do more of those!\n",
    "\"\"\")\n",
    "print(func3)"
   ]
  },
  {
   "cell_type": "markdown",
   "metadata": {},
   "source": [
    "# EX : 5\n",
    "\n",
    "Generate a random number between 1 and 9 (including 1 and 9). Ask the user to guess the number, then tell them whether they guessed too low, too high, or exactly right.\n",
    "\n",
    "Extras:\n",
    "\n",
    "Keep the game going until the user types “exit”\n",
    "Keep track of how many guesses the user has taken, and when the game ends, print this out."
   ]
  },
  {
   "cell_type": "code",
   "execution_count": 11,
   "metadata": {},
   "outputs": [
    {
     "name": "stdout",
     "output_type": "stream",
     "text": [
      "Enter the guess or type 'exit' to end the game: 3\n",
      "You guesses correctly:  3\n",
      "You made 1 number of guesses\n",
      "Enter the guess or type 'exit' to end the game: 5\n",
      "High\n",
      "Enter the guess or type 'exit' to end the game: 4\n",
      "High\n",
      "Enter the guess or type 'exit' to end the game: 3\n",
      "High\n",
      "Enter the guess or type 'exit' to end the game: 2\n",
      "High\n",
      "Enter the guess or type 'exit' to end the game: 1\n",
      "You guesses correctly:  1\n",
      "You made 5 number of guesses\n",
      "Enter the guess or type 'exit' to end the game: exit\n"
     ]
    },
    {
     "data": {
      "text/plain": [
       "'Thankyou for playing'"
      ]
     },
     "execution_count": 11,
     "metadata": {},
     "output_type": "execute_result"
    }
   ],
   "source": [
    "import random\n",
    "def game():\n",
    "    while True:\n",
    "        rand = random.randint(1, 9)\n",
    "        num_of_guess = 0\n",
    "        user_input = 0\n",
    "        while int(user_input) != rand:\n",
    "            user_input = input(\"Enter the guess or type 'exit' to end the game: \")\n",
    "            num_of_guess += 1\n",
    "            if str(user_input) == 'exit':\n",
    "                return \"Thankyou for playing\"\n",
    "            elif int(user_input) > rand:\n",
    "                print(\"High\")\n",
    "            elif int(user_input) < rand:\n",
    "                print(\"Low\")\n",
    "            else:\n",
    "                print(\"You guesses correctly: \", rand)\n",
    "        print(\"You made {} number of guesses\".format(num_of_guess))\n",
    "game()"
   ]
  },
  {
   "cell_type": "markdown",
   "metadata": {},
   "source": [
    "# EX: 6\n",
    "\n",
    "If a game of Tic Tac Toe is represented as a list of lists, like so:\n",
    "``` python \n",
    "game = [[1, 2, 0],\n",
    "\t[2, 1, 0],\n",
    "\t[2, 1, 1]]\n",
    "```\n",
    "\n",
    "**where a 0 means an empty square, a 1 means that player 1 put their token in that space, and a 2 means that player 2 put their token in that space** .\n",
    "\n",
    "Your task is : given a 3 by 3 list of lists that represents a Tic Tac Toe game board, tell me whether anyone has won, and tell me which player won, if any. A Tic Tac Toe win is 3 in a row - either in a row, a column, or a diagonal. Don’t worry about the case where TWO people have won - assume that in every board there will only be one winner.\n",
    "\n",
    "Here are some more examples to work with:\n",
    "``` python\n",
    "winner_is_2 = [[2, 2, 0],\n",
    "\t[2, 1, 0],\n",
    "\t[2, 1, 1]]\n",
    "\n",
    "winner_is_1 = [[1, 2, 0],\n",
    "\t[2, 1, 0],\n",
    "\t[2, 1, 1]]\n",
    "\n",
    "winner_is_also_1 = [[0, 1, 0],\n",
    "\t[2, 1, 0],\n",
    "\t[2, 1, 1]]\n",
    "\n",
    "no_winner = [[1, 2, 0],\n",
    "\t[2, 1, 0],\n",
    "\t[2, 1, 2]]\n",
    "\n",
    "also_no_winner = [[1, 2, 0],\n",
    "\t[2, 1, 0],\n",
    "\t[2, 1, 0]]\n",
    "```"
   ]
  },
  {
   "cell_type": "code",
   "execution_count": 40,
   "metadata": {},
   "outputs": [
    {
     "name": "stdout",
     "output_type": "stream",
     "text": [
      "Player 2 won diagonally from bottom!\n"
     ]
    }
   ],
   "source": [
    "game = [[1, 1, 2],\n",
    "        [2, 2, 0],\n",
    "        [2, 1, 1]]\n",
    "\n",
    "for row in game:\n",
    "    row1 = row[0]\n",
    "    row2 = row[1]\n",
    "    row3 = row[2]\n",
    "    if row1 == row2 == row3 and row1 != 0:\n",
    "        print(\"Player {} won horizontally!\".format(row1))\n",
    "\n",
    "for col in range(len(game[0])):\n",
    "        check = []\n",
    "        for row in game:\n",
    "            check.append(row[col])\n",
    "        if check.count(check[0]) == len(check) and check[0] != 0:\n",
    "            print(\"Player {} won vertically!\".format(check[0]))\n",
    "\n",
    "diagonal = []            \n",
    "for x in range(len(game)):\n",
    "    diagonal.append(game[x][x])\n",
    "if diagonal.count(diagonal[0]) == len(diagonal) and diagonal[0] != 0:\n",
    "    print(\"Player {} won diagonally form top!\".format(diagonal[0]))\n",
    "\n",
    "diagonal2 = []\n",
    "for row, col in enumerate(reversed(range(len(game)))):\n",
    "    diagonal2.append(game[row][col])\n",
    "if diagonal2.count(diagonal2[0]) == len(diagonal2) and diagonal2[0] != 0:\n",
    "    print(\"Player {} won diagonally from bottom!\".format(diagonal2[0]))"
   ]
  }
 ],
 "metadata": {
  "kernelspec": {
   "display_name": "Python 3",
   "language": "python",
   "name": "python3"
  },
  "language_info": {
   "codemirror_mode": {
    "name": "ipython",
    "version": 3
   },
   "file_extension": ".py",
   "mimetype": "text/x-python",
   "name": "python",
   "nbconvert_exporter": "python",
   "pygments_lexer": "ipython3",
   "version": "3.7.4"
  }
 },
 "nbformat": 4,
 "nbformat_minor": 2
}
